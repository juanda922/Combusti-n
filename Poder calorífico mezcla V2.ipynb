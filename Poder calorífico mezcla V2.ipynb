{
 "cells": [
  {
   "cell_type": "code",
   "execution_count": 1,
   "metadata": {},
   "outputs": [],
   "source": [
    "def composition_CxHyOz_Air(gas, fuel_species,fracc_fuel, exceso_aire):\n",
    "    #Reactivos de la reaccion \n",
    "    iFuel=np.zeros(len(fuel_species))\n",
    "    C_atoms=0\n",
    "    H_atoms=0\n",
    "    O_atoms=0\n",
    "    X = np.zeros(gas.n_species)\n",
    "    for i in range(len(fuel_species)):\n",
    "        iFuel[i]=gas.species_index(fuel_species[i])\n",
    "        C_atoms=C_atoms+gas.n_atoms(fuel_species[i], 'C')*fracc_fuel[i]\n",
    "        H_atoms=H_atoms+gas.n_atoms(fuel_species[i], 'H')*fracc_fuel[i]\n",
    "        O_atoms=O_atoms+gas.n_atoms(fuel_species[i], 'O')*fracc_fuel[i]\n",
    "        X[gas.species_index(fuel_species[i])]=fracc_fuel[i]\n",
    "    iO2 = gas.species_index('O2') #Busca el indice del O2\n",
    "    iN2 = gas.species_index('N2') #Busca el indice del N2 \n",
    "    stoich_O2 = C_atoms + H_atoms/4.0 - O_atoms/2.0 #Encuentro las moles estequiometricas de oxigeno\n",
    "    X[iO2] = stoich_O2*exceso_aire #Le asigno el num. de moles a la componente de oxigeno del aire \n",
    "    X[iN2] = (79/21)*stoich_O2*exceso_aire #Le asigno el num. de moles a la componente de nitrogeno del aire\n",
    "    #Mismo metodo pero para los productos\n",
    "    iCO2=gas.species_index('CO2')\n",
    "    iH2O=gas.species_index('H2O')\n",
    "    iN2=gas.species_index('N2')\n",
    "    X_prod = np.zeros(gas.n_species)\n",
    "    X_prod[iCO2]=C_atoms\n",
    "    X_prod[iH2O]=H_atoms/2\n",
    "    X_prod[iN2]=(79/21)*stoich_O2*exceso_aire\n",
    "    X_reac_prod=[X,X_prod]\n",
    "    Moles_Prod=[C_atoms,H_atoms/2,(79/21)*stoich_O2*exceso_aire]\n",
    "    return X_reac_prod,C_atoms,H_atoms,stoich_O2,Moles_Prod"
   ]
  },
  {
   "cell_type": "markdown",
   "metadata": {},
   "source": [
    "# Cantera Example: Heating values\n",
    "## Poder calorífico de la mezcla ($90\\%C_{12}H_{26}+10\\%H_2$)\n",
    "La combustión completa de la mezcla sigue la siguiente reacción:\n",
    "<br>\n",
    "$(0.9C_{12}H_{26}+0.1H_2)+a(O_2+3.76N_2)\\rightarrow bCO_2+cH_2O+dN_2$\n",
    "\n",
    "$C: 0.9(12)=b$\n",
    "\n",
    "$H: 0.9(26)+0.1(2)=c(2)$\n",
    "\n",
    "$O: a(2)=b(2)+c$\n",
    "\n",
    "$N: a(3.76)(2)=d(2)$\n",
    "\n",
    "Luego de iterar, se obtiene que:\n",
    "<br>\n",
    "$a=16.7 \\quad b= 10.8 \\quad c=11.8 \\quad d=62.79$\n",
    "\n",
    "$(0.9C_{12}H_{26}+0.1H_2)+16.7(O_2+3.76N_2)\\rightarrow 10.8CO_2+11.8H_2O+62.79N_2$\n",
    "\n",
    "We compute the lower heating value (LHV) as the difference in enthalpy (per kg *mixture*) between reactants and products at constant temperature and pressure, divided by the mass fraction of fuel in the reactants"
   ]
  },
  {
   "cell_type": "code",
   "execution_count": 10,
   "metadata": {},
   "outputs": [
    {
     "name": "stdout",
     "output_type": "stream",
     "text": [
      "La reaccion estequimetrica es igual a:\n",
      " 10.8 C 23.6 H +  16.700000000000003 (O2+3.76N2) ---->  10.8 CO2 +  11.8 H20 +  62.82380952380954 N2\n",
      "LHV_m =  44.545 MJ/kg\n",
      "LHV =  6837.912 MJ/kmol\n",
      "LHV_v =  288.67 MJ/m3st\n",
      "HHV_m =  47.928 MJ/kg\n",
      "HHV =  7357.175 MJ/kmol\n",
      "HHV_v =  310.592 MJ/m3st\n"
     ]
    }
   ],
   "source": [
    "\n",
    "import cantera as ct\n",
    "import numpy as np\n",
    "import matplotlib.pyplot as plt\n",
    "\n",
    "#----------------------------------------------------\n",
    "#  DEFINICIÓN COMBUSTIBLE Y EL ESTADO DE REFERENCIA\n",
    "#----------------------------------------------------\n",
    "\n",
    "#Primero se definen las especies y fracciones de la mezcla de combustible\n",
    "fuel_species =  ['c12h26','h2'] \n",
    "fracc_fuel =[0.9,0.1]\n",
    "#Se establecen las especies presentes en los productos\n",
    "prod_species = ['co2','h2o','n2']\n",
    "#Se establece el estado termodinamico\n",
    "temp=298.6 #K\n",
    "press=1*ct.one_atm #Pa \n",
    "exceso_aire=1\n",
    "\n",
    "#Se crea una mezcla de gases referentes a los productos y reactivos.\n",
    "gas1 = ct.Solution('nDodecane_Reitz.cti', 'nDodecane_IG') #Equivalente a los reactivos\n",
    "gas2 = ct.Solution('nDodecane_Reitz.cti', 'nDodecane_IG')#Equivalente a los productos\n",
    "#Se extraen las composiciones molares\n",
    "comp_react_prod,x,y,a,Moles_Prod=composition_CxHyOz_Air(gas1, fuel_species,fracc_fuel, exceso_aire) #LLama la funcion y guarda el vector \n",
    "gas1.TPX = temp, press, comp_react_prod[0]\n",
    "gas2.TPX = None, None, comp_react_prod[1]\n",
    "\n",
    "#Se imprime la reacción resultante \n",
    "print(\"La reaccion estequimetrica es igual a:\\n\",x,\"C\",y,\"H + \",a,\"(O2+3.76N2) ----> \",Moles_Prod[0],\"CO2 + \",Moles_Prod[1],\"H20 + \",Moles_Prod[2],\"N2\" )\n",
    "\n",
    "#Masa molecular combustible [kg/kmol]\n",
    "Masa_Mol_Fuel=0\n",
    "for i in range(len(fuel_species)):\n",
    "    Masa_Mol_Fuel=gas1[fuel_species[i]].molecular_weights*fracc_fuel[i]+Masa_Mol_Fuel #kg/kmol\n",
    "#------------------------------------------\n",
    "#            PODER CALORIFICO\n",
    "#------------------------------------------\n",
    "#    -----------------------------------\n",
    "#        Entalpia Formacion Reactivos\n",
    "#    -----------------------------------\n",
    "\n",
    "h1_mole = gas1.enthalpy_mole #Entalpia de formacion la mezcla aire combustible molar\n",
    "\n",
    "#A partir de la entalpia de formacion de la mezcla total, es necesario encontrar la del combustible \n",
    " #En otras palabras, pasar de [kJ/kmolaire+fuel] a [kJ/kmolfuel]\n",
    "\n",
    "#Para hallar la entalpia de formacion de los reactivos\n",
    " #Encontrar la fraccion molar de los reactivos\n",
    "frac_molar_fuel=0\n",
    "for i in range(len(fuel_species)):\n",
    "    frac_molar_fuel=gas1[fuel_species[i]].X+frac_molar_fuel\n",
    "\n",
    "h1_mole_fuel=h1_mole/(frac_molar_fuel*1e6) # [MJ/kmolfuel]\n",
    "\n",
    "#    -----------------------------------\n",
    "#        Entalpia Formacion Productos \n",
    "#    -----------------------------------\n",
    "\n",
    "h2_mole = gas2.enthalpy_mole*sum(Moles_Prod)/(1e6) #MJ/kmolfuel\n",
    "\n",
    "#    -------------------------------------------------------\n",
    "#      Poder Calorifico Inferior Molar Masico Volumetrico\n",
    "#    -----------------------------------------------------\n",
    "def Vst(moles):\n",
    "    Tst=288.6 #K\n",
    "    Pst=101.3 #kPa\n",
    "    Ru= 8.31447 #kJ/molK\n",
    "    Vst=(moles*Ru*Tst)/Pst\n",
    "    return (Vst)\n",
    "\n",
    "LHV_molar=-(h2_mole-h1_mole_fuel) #[MJ/kmol]\n",
    "LHV_masico=LHV_molar/Masa_Mol_Fuel #[MJ/kg]\n",
    "LHV_vol=LHV_molar/Vst(1)  #[MJ/m3]\n",
    "\n",
    "#    -------------------------------------------------------\n",
    "#      Poder Calorifico Superior Molar Masico Volumetrico\n",
    "#    -----------------------------------------------------\n",
    "\n",
    "#Para hallar el poder calorífico superior\n",
    "water = ct.Water()\n",
    "# Se establece el estado líquido del agua con calidad = 0\n",
    "water.TX = 298, 0\n",
    "h_liquid = water.h #J/kg\n",
    "# Se establece el estado gaseoso del agua con calidad = 1\n",
    "water.TX = 298, 1\n",
    "h_gas = water.h#J/kg\n",
    "\n",
    "#Se encuentra el calor latente de vaporizacion del agua\n",
    "molar_mass_agua=gas2['H2O'].molecular_weights\n",
    "moles_agua=Moles_Prod[1]\n",
    "hvv=(h_gas-h_liquid)/1e6 #MJ/kg\n",
    "masa_agua=moles_agua*molar_mass_agua/Masa_Mol_Fuel #kgagua/kgfuel\n",
    "\n",
    "\n",
    "HHV_masico=LHV_masico+hvv*masa_agua #[MJ/kg]\n",
    "HHV_molar=HHV_masico*Masa_Mol_Fuel#[MJ/kmol]\n",
    "HHV_vol=HHV_molar/Vst(1)#[MJ/m3]\n",
    "\n",
    "\n",
    "\n",
    "print('LHV_m = ',np.around(LHV_masico[0],3),'MJ/kg')\n",
    "print('LHV = ',np.around(LHV_molar[0],3),'MJ/kmol')\n",
    "print('LHV_v = ',np.around(LHV_vol[0],3),'MJ/m3st')\n",
    "\n",
    "\n",
    "print('HHV_m = ',np.around(HHV_masico[0],3),'MJ/kg')\n",
    "print('HHV = ',np.around(HHV_molar[0],3),'MJ/kmol')\n",
    "print('HHV_v = ',np.around(HHV_vol[0],3),'MJ/m3st')"
   ]
  },
  {
   "cell_type": "markdown",
   "metadata": {},
   "source": [
    "## Cálculo de la fracción másica y fracción elemental en masa\n",
    "\n",
    "Para calcular la fracción elemental en masa de cada uno de los elementos presentes en la mezcla de combustibles, se utilizó la función de Cantera \".elemental_mass_fraction['especie']\".\n",
    "<br>\n",
    "Para calcular la fracción másica de cada uno de los combustibles en la mezcla, se utilizó la función de Cantera \"gas['especie'].Y[0]\"."
   ]
  },
  {
   "cell_type": "code",
   "execution_count": 14,
   "metadata": {},
   "outputs": [
    {
     "name": "stdout",
     "output_type": "stream",
     "text": [
      "La fracción elemental en masa del H es: 0.155\n",
      "La fracción elemental en masa del C es: 0.845\n",
      "La fracción másica del diesel es: 0.999\n",
      "La fracción másica del diesel es: 0.001\n"
     ]
    }
   ],
   "source": [
    "fracc_masi_fuel=np.zeros(len(fuel_species))\n",
    "masa_comp_fuel=np.zeros(len(fuel_species))\n",
    "for i in range(len(fuel_species)):\n",
    "    masa_comp_fuel[i]=fracc_fuel[i]*gas1[fuel_species[i]].molecular_weights\n",
    "    fracc_masi_fuel[i]=masa_comp_fuel[i]/Masa_Mol_Fuel\n",
    "\n",
    "    masa_aire=a*gas1['O2'].molecular_weights+(79/21)*a*gas1['N2'].molecular_weights\n",
    "masa_mezcla_aire_fuel=Masa_Mol_Fuel+masa_aire\n",
    "masa_fuel_por_masa_aire_fuel=Masa_Mol_Fuel/masa_mezcla_aire_fuel\n",
    "H = gas1.elemental_mass_fraction('H')/masa_fuel_por_masa_aire_fuel\n",
    "C = gas1.elemental_mass_fraction('C')/masa_fuel_por_masa_aire_fuel\n",
    "\n",
    "print(\"La fracción elemental en masa del H es:\",np.around(H[0],3))\n",
    "print(\"La fracción elemental en masa del C es:\",np.around(C[0],3))\n",
    "\n",
    "print(f\"La fracción másica del diesel es:\",np.around(fracc_masi_fuel[0],3))\n",
    "print(f\"La fracción másica del diesel es:\",np.around(fracc_masi_fuel[1],3))"
   ]
  },
  {
   "cell_type": "markdown",
   "metadata": {},
   "source": [
    "## Cálculo de la masa estequimétrica de aire\n",
    "\n",
    "$m_{fuel} = n_{C_{12}H{26}} M_{C_{12}H{26}}+n_{H_2} M_{H_2}$\n",
    "\n",
    "$m_{air} = n_{air}M_{air}$\n",
    "\n",
    "$m_{air-stoich} = \\frac{m_{air}}{m_{fuel}}$\n"
   ]
  },
  {
   "cell_type": "code",
   "execution_count": 18,
   "metadata": {},
   "outputs": [
    {
     "name": "stdout",
     "output_type": "stream",
     "text": [
      "La masa estequimétrica de combustible es:  14.946 kg_air/kg_fuel\n"
     ]
    }
   ],
   "source": [
    "m_est_aire=masa_aire/Masa_Mol_Fuel\n",
    "print(\"La masa estequimétrica de combustible es: \",np.around(m_est_aire[0],3),\"kg_air/kg_fuel\")"
   ]
  },
  {
   "cell_type": "markdown",
   "metadata": {},
   "source": [
    "## Masa y volúmen de humos húmedos \n",
    "$m_{f-hum-total} = n_{CO_2} M_{CO_2} + n_{H_2O} M_{H_2O} + n_{N_2} M_{N_2}$\n",
    "\n",
    "$m_{f-hum} = \\frac{m_{f-hum-total}}{m_{fuel}}$\n",
    "\n",
    "$m_{f-hum} = 15.96 \\frac{kg_{f-hum}}{kg_{fuel}}$\n",
    "\n",
    "$V_{f-hum} = 85.39 \\frac{m^3_{f-hum}}{m^3_{fuel}}$\n"
   ]
  },
  {
   "cell_type": "code",
   "execution_count": 20,
   "metadata": {},
   "outputs": [
    {
     "name": "stdout",
     "output_type": "stream",
     "text": [
      "La masa de humos húmedos es: 15.946 kg_hum/kg_fuel\n",
      "El volúmen de humos húmedos es: 85.424 m3_hum/m3_fuel\n"
     ]
    }
   ],
   "source": [
    "#----------------------------------------------------\n",
    "#       MASA Y VOLUMEN HUMOS HUMEDOS \n",
    "#---------------------------------------------------\n",
    "    #VOLUMEN\n",
    "Vhh=0\n",
    "for i in range(len(Moles_Prod)):\n",
    "    Vhh=Vhh+Moles_Prod[i]  #[m3vhh/m3fuel]\n",
    "\n",
    "    #MASA\n",
    "masa_hh=0\n",
    "for i in range(len(Moles_Prod)):\n",
    "    masa_hh=masa_hh+Moles_Prod[i]*gas2[prod_species[i]].molecular_weights\n",
    "masa_hh_fuel= masa_hh/Masa_Mol_Fuel\n",
    "print(\"La masa de humos húmedos es:\",np.around(masa_hh_fuel[0],3),\"kg_hum/kg_fuel\")\n",
    "print(\"El volúmen de humos húmedos es:\",np.around(Vhh,3),\"m3_hum/m3_fuel\")"
   ]
  },
  {
   "cell_type": "markdown",
   "metadata": {},
   "source": [
    "## Masa y volúmen de humos secos\n",
    "\n",
    "$m_{f-sec-total} = n_{CO_2} M_{CO_2} + n_{N_2} M_{N_2}$\n",
    "\n",
    "$m_{f-sec} = \\frac{m_{f-sec-total}}{m_{fuel}}$\n",
    "\n",
    "$m_{f-sec} = 14.58 \\frac{kg_{f-sec}}{kg_{fuel}}$\n",
    "\n",
    "$V_{f-sec} = 73.59 \\frac{m^3_{f-sec}}{m^3_{fuel}}$"
   ]
  },
  {
   "cell_type": "code",
   "execution_count": 24,
   "metadata": {},
   "outputs": [
    {
     "name": "stdout",
     "output_type": "stream",
     "text": [
      "La masa de humos secos es: 14.561 kg_hum/kg_fuel\n",
      "El volúmen de humos secos es: 73.624 m3_hum/m3_fuel\n"
     ]
    }
   ],
   "source": [
    "Vhs=Vhh-Moles_Prod[1]\n",
    "masa_hs_fuel=masa_hh_fuel-masa_agua\n",
    "\n",
    "print(f\"La masa de humos secos es:\",np.around(masa_hs_fuel[0],3),\"kg_hum/kg_fuel\")\n",
    "print(f\"El volúmen de humos secos es:\",np.around(Vhs,3),\"m3_hum/m3_fuel\")"
   ]
  },
  {
   "cell_type": "markdown",
   "metadata": {},
   "source": [
    "## Porcentaje máximo de CO2\n",
    "Para hallar el porcentaje máximo de $CO_2$ en los productos de combustión:\n",
    "\n",
    "$\\%max-CO_2 = \\frac{n_{CO_2}}{n_{CO_2} + n_{N_2}}100\\%$\n",
    "\n",
    "$\\%max-CO_2 = 14.68 \\%$"
   ]
  },
  {
   "cell_type": "code",
   "execution_count": 25,
   "metadata": {},
   "outputs": [
    {
     "name": "stdout",
     "output_type": "stream",
     "text": [
      "El porcentaje máximo de CO2 es: 14.669 %\n"
     ]
    }
   ],
   "source": [
    "mol_co2=Moles_Prod[0]\n",
    "porcentaje_CO2 = mol_co2/Vhs*100\n",
    "print(\"El porcentaje máximo de CO2 es:\",np.around(porcentaje_CO2,3),\"%\")"
   ]
  },
  {
   "cell_type": "markdown",
   "metadata": {},
   "source": [
    "## Intervalo de inflamabilidad\n",
    "\n",
    "Los límites de inflamabilidad se calculan siguiendo la relación de volúmen de gas combustible y volúmen de mezcla combustible-aire. Para los componentes de la mezcla indicada se tienen los siguientes límites de inflamabilidad:\n",
    "\n",
    "$LI=\\frac{V_{fuel}}{V_{fuel}+V_{air}}100\\%$\n",
    "\n",
    "$LII_{C_{12}H{26}} = 0.7\\%\\quad LII_{H_2} = 4\\%$\n",
    "\n",
    "$LSI_{C_{12}H{26}} = 5\\%\\quad LSI_{H_2} = 75\\%$\n",
    "\n",
    "Luego, los límites de inflamabilidad de la mezcla: \n",
    "\n",
    "$\\frac{1}{LII_{mixture}} = \\frac{x_{C_{12}H{26}}}{LII_{C_{12}H{26}}} + \\frac{x_{H_2}}{LII_{H_2}}$\n",
    "\n",
    "$\\frac{1}{LSI_{mixture}} = \\frac{x_{C_{12}H{26}}}{LSI_{C_{12}H{26}}} + \\frac{x_{H_2}}{LSI_{H_2}}$\n",
    "\n",
    "$LII_{mixture} = 0.76\\% \\quad LSI_{mixture} = 5.51\\% \\quad LI_{estequiométrico} = 1.24\\%$\n",
    "\n",
    "Como puede observarse, la relación estequiométrica se encuentra dentro del intervalo de inflamabilidad.\n",
    "<br>\n",
    "Por otro lado, el dosado relativo en el LII y LSI de la mezcla es $\\phi_{LII}=0.61$ y $\\phi_{LSI}=4.38$ respectivamente. Del mismo modo, el factor de aireación en el LII y LSI es $\\lambda_{LII}=1.65$ y $\\lambda_{LSI}=0.23$ respectivamente."
   ]
  },
  {
   "cell_type": "code",
   "execution_count": 7,
   "metadata": {},
   "outputs": [
    {
     "name": "stdout",
     "output_type": "stream",
     "text": [
      "El intervalo de inflamabilidad de la mezcla en % es: [0.76;5.51]\n",
      "La relación estequiométrica combustible/aire toma un valor de 1.24%.\n",
      "El dosado relativo en el LII y LSI es 0.61 y 4.64 respectivamente.\n",
      "El factor de aireación en el LII y LSI es 1.64 y 0.22 respectivamente.\n"
     ]
    }
   ],
   "source": [
    "LLI_C12H26 = 0.7\n",
    "LSI_C12H26 = 5\n",
    "LLI_H2 = 4\n",
    "LSI_H2 = 75\n",
    "LLI_mix = 1/(0.9/LLI_C12H26 + 0.1/LLI_H2)\n",
    "LSI_mix = 1/(0.9/LSI_C12H26 + 0.1/LSI_H2)\n",
    "LI_stoich = 1/(1+16.7*4.76)*100\n",
    "fuel_air_stoich = 1/(16.7*4.76)\n",
    "fuel_air_LLI = 1/(1/(LLI_mix/100)-1)\n",
    "fuel_air_LSI = 1/(1/(LSI_mix/100)-1)\n",
    "phi_LII = fuel_air_LLI/fuel_air_stoich\n",
    "phi_LSI = fuel_air_LSI/fuel_air_stoich\n",
    "f_air_LII = 1/phi_LII\n",
    "f_air_LSI = 1/phi_LSI\n",
    "print(f\"El intervalo de inflamabilidad de la mezcla en % es: [{LLI_mix:.2f};{LSI_mix:.2f}]\")\n",
    "print(f\"La relación estequiométrica combustible/aire toma un valor de {LI_stoich:.2f}%.\")\n",
    "print(f\"El dosado relativo en el LII y LSI es {phi_LII:.2f} y {phi_LSI:.2f} respectivamente.\")\n",
    "print(f\"El factor de aireación en el LII y LSI es {f_air_LII:.2f} y {f_air_LSI:.2f} respectivamente.\")"
   ]
  },
  {
   "cell_type": "markdown",
   "metadata": {},
   "source": [
    "## Gravedad específica\n",
    "\n",
    "Para hallar la gravedad específica de la mezcla, primero hallamos la gravedad específica de cada uno de los componentes. Por el lado del dodecano, se asume que está en fase vapor y que tiene comportamiento de gas ideal.\n",
    "<br>\n",
    "Dadas las anteriores simplificaciones, se tiene que:\n",
    "\n",
    "$d=\\frac{M_{fuel}}{M_{air}}$\n",
    "\n",
    "$d_{mix}=\\sum x_id_i$\n",
    "\n",
    "$d_{mix}=5.28$"
   ]
  },
  {
   "cell_type": "code",
   "execution_count": 8,
   "metadata": {},
   "outputs": [
    {
     "name": "stdout",
     "output_type": "stream",
     "text": [
      "La gravedad específica de la mezcla es: 5.28\n",
      "La gravedad específica del H2: 0.07\n",
      "La gravedad específica del C12H26: 5.86\n"
     ]
    }
   ],
   "source": [
    "M_C12H26 = 170 #kg/kmol\n",
    "M_H2 = 2 #kg/kmol\n",
    "M_air = 29 #kg/kmol\n",
    "d_C12H26 = M_C12H26/M_air\n",
    "d_H2 = M_H2/M_air\n",
    "d_mix = 0.9*d_C12H26 + 0.1*d_H2\n",
    "print(f\"La gravedad específica de la mezcla es: {d_mix:.2f}\")\n",
    "print(f\"La gravedad específica del H2: {d_H2:.2f}\")\n",
    "print(f\"La gravedad específica del C12H26: {d_C12H26:.2f}\")"
   ]
  },
  {
   "cell_type": "markdown",
   "metadata": {},
   "source": [
    "## Temperatura de llama adiabática\n",
    "\n",
    "Para hallar la temperatura de llama adiabática se asume combustión completa. Esta temperatura, se alcanza cuando el dosado relativo o el factos de aireación es estequiométrico."
   ]
  },
  {
   "cell_type": "code",
   "execution_count": 26,
   "metadata": {},
   "outputs": [
    {
     "data": {
      "image/png": "[encoded data removed]",
      "text/plain": [
       "<Figure size 432x288 with 1 Axes>"
      ]
     },
     "metadata": {
      "needs_background": "light"
     },
     "output_type": "display_data"
    }
   ],
   "source": [
    "phi_lista=np.linspace(0.5,1.5,22)\n",
    "T=[]\n",
    "gas3 = ct.Solution('nDodecane_Reitz.cti', 'nDodecane_IG')\n",
    "for i in phi_lista:\n",
    "    gas3.TPX = temp, press,composition_CxHyOz_Air(gas1, fuel_species,fracc_fuel, 1/i)[0][0]\n",
    "    gas3.equilibrate('HP')\n",
    "    T.append(gas3.T)\n",
    "    \n",
    "plt.plot(phi_lista,T,label='1 atm \\n298K',linewidth=3,color='red')\n",
    "plt.title('Temperatura Llama Adiabática')\n",
    "plt.xlabel(r'Dosado Relativo $\\phi$')\n",
    "plt.ylabel('Temperatura [K]')\n",
    "plt.legend()\n",
    "plt.savefig('Grafica_LLama_Adiabatica.png')\n",
    "plt.show()  "
   ]
  },
  {
   "cell_type": "markdown",
   "metadata": {},
   "source": [
    "## Índice de Wobbe\n",
    "\n",
    "$W = HHV /\\sqrt{d}$\n",
    "\n",
    "$W_{mix} = \\frac{\\sum x_iHHV_{v,i}}{\\sqrt{\\sum x_id_i}}$"
   ]
  },
  {
   "cell_type": "code",
   "execution_count": 10,
   "metadata": {},
   "outputs": [
    {
     "name": "stdout",
     "output_type": "stream",
     "text": [
      "El índice de Wobbe de la mezcla es: 134.86 MJ/m3\n"
     ]
    }
   ],
   "source": [
    "import math\n",
    "\n",
    "HHV_v_H2 = 11.966\n",
    "HHV_v_C12H26 = 343.072\n",
    "W_mix = (0.9*HHV_v_C12H26+0.1*HHV_v_H2)/(math.sqrt(0.9*d_C12H26+0.1*d_H2))\n",
    "print(f\"El índice de Wobbe de la mezcla es: {W_mix:.2f} MJ/m3\")"
   ]
  },
  {
   "cell_type": "markdown",
   "metadata": {},
   "source": [
    "## Temperatura de rocío\n",
    "\n",
    "Para hallar la temperatura de rocío debemos hallar en un principio la presión parcial del $H_2O$ en los productos. Posteriormente buscamos la temperatura de inicio de la condensación para dicha presión."
   ]
  },
  {
   "cell_type": "code",
   "execution_count": 16,
   "metadata": {},
   "outputs": [
    {
     "name": "stdout",
     "output_type": "stream",
     "text": [
      "La temperatura de rocío es: 325.75 K\n"
     ]
    }
   ],
   "source": [
    "p_productos = 101325 #Pa, pues se asume que los productos salen a condiciones estándar \n",
    "n_productos = 85.39\n",
    "n_H2O = 11.8\n",
    "P_parcial_H2O = (n_H2O/n_productos)*p_productos\n",
    "w = ct.Water()\n",
    "w.PX = P_parcial_H2O, 1\n",
    "T_rocio = w.T\n",
    "print(f\"La temperatura de rocío es: {T_rocio:.2f} K\")"
   ]
  },
  {
   "cell_type": "markdown",
   "metadata": {},
   "source": [
    "## Factor de emisión de CO2\n",
    "\n",
    "Para hallar el factor de emisión, debemos hallar la masa de CO2 producida en la reacción y posteriormente dividirla por el poder calorífico inferior másico.\n",
    "\n",
    "$m_{CO_2}=\\frac{M_{CO_2}n_{CO_2}}{n_{C_{12}H{26}}M_{C_{12}H{26}}+n_{H_2}M_{H_2}}$\n",
    "\n",
    "$Fe=\\frac{m_{CO_2}}{LHV_m}$"
   ]
  },
  {
   "cell_type": "code",
   "execution_count": 12,
   "metadata": {},
   "outputs": [
    {
     "name": "stdout",
     "output_type": "stream",
     "text": [
      "El factor de emisión de CO2 es de 69596.17 kg_CO2/TJ_LHV\n"
     ]
    }
   ],
   "source": [
    "m_CO2 = (44*10.8)/(170*0.9+2*0.1)\n",
    "Fe = m_CO2/(LHV_m*1e-6)\n",
    "print(f\"El factor de emisión de CO2 es de {Fe:.2f} kg_CO2/TJ_LHV\")"
   ]
  },
  {
   "cell_type": "markdown",
   "metadata": {},
   "source": [
    "## Reducción de aire respecto a diesel puro\n",
    "\n",
    "Para hallar el porcentaje de reducción de aire respecto a la condición de diésel puro, se toman los valores de las moles de aire para la dos condiciones, diésel puro y la mezcla diésel-Hidrógeno.\n",
    "\n",
    "$C_{12}H_{26}+18.5(O_2+3.76N_2)\\rightarrow 12CO_2+13H_2O+69.56N_2$\n",
    "\n",
    "$(0.9C_{12}H_{26}+0.1H_2)+16.7(O_2+3.76N_2)\\rightarrow 10.8CO_2+11.8H_2O+62.79N_2$\n",
    "\n",
    "Posteriormente, se restan las dos cantidades y se divide el resultado por las moles de aire en el caso del diésel puro.\n",
    "\n",
    "$\\%reduccion-aire = \\frac{18.5-16.7}{18.5}100\\%$\n"
   ]
  },
  {
   "cell_type": "code",
   "execution_count": 13,
   "metadata": {},
   "outputs": [
    {
     "name": "stdout",
     "output_type": "stream",
     "text": [
      "El porcentaje de reducción de aire respecto al caso de diésel puro es: 9.73%\n"
     ]
    }
   ],
   "source": [
    "red_air = (18.5-16.70)/18.5*100\n",
    "print(f\"El porcentaje de reducción de aire respecto al caso de diésel puro es: {red_air:.2f}%\")"
   ]
  },
  {
   "cell_type": "markdown",
   "metadata": {},
   "source": [
    "## Botellas de agua que se pueden llenar quemando 1000 kg de combustible\n",
    "\n",
    "En primer lugar, debemos calcular el número de moles a los que corresponden 1000 kg de combustible, para esto utilizamos la ecuación $m=n*M$.\n",
    "\n",
    "$n:$ Es el número de moles [kmol]\n",
    "\n",
    "$m:$ Es la masa [kg]\n",
    "\n",
    "$M:$ Es el peso molecular [kg/kmol]\n",
    "\n",
    "El número de moles que nos arroje el cálculo, multiplicará las moles de combustible:\n",
    "\n",
    "$6.53(0.9C_{12}H_{26}+0.1H_2)+a(O_2+3.76N_2)\\rightarrow bCO_2+cH_2O+dN_2$\n",
    "\n",
    "$C: 6.53(0.9)(12)=b$\n",
    "\n",
    "$H: 6.53(0.9(26)+0.1(2))=c(2)$\n",
    "\n",
    "$O: a(2)=b(2)+c$\n",
    "\n",
    "$N: a(3.76)(2)=d(2)$\n",
    "\n",
    "$6.53(0.9C_{12}H_{26}+0.1H_2)+109.1(O_2+3.76N_2)\\rightarrow 70.52CO_2+77.05H_2O+410N_2$\n",
    "\n",
    "Nuevamente se balancea la ecuación y se calcula la masa de agua que se obtiene de realizar la combustión. Finalmente se tiene que quemando 1000 kg de combustible, se obtienen 1386 botellas de agua."
   ]
  },
  {
   "cell_type": "code",
   "execution_count": 14,
   "metadata": {},
   "outputs": [
    {
     "name": "stdout",
     "output_type": "stream",
     "text": [
      "El número de botellas que se pueden llenar quemando 1000 kg de combustible es: 1386.0\n"
     ]
    }
   ],
   "source": [
    "n_fuel = 1000/(170*0.9+2*0.1)\n",
    "\n",
    "n_H2O = 77.05 #kmol\n",
    "M_H2O = 18 #kg/kmol\n",
    "m_H2O = n_H2O*M_H2O\n",
    "rho_H2O = 1 #kg/lt \n",
    "v_H2O = m_H2O/rho_H2O\n",
    "print(\"El número de botellas que se pueden llenar quemando 1000 kg de combustible es: {}\" .format(v_H2O//1))\n"
   ]
  },
  {
   "attachments": {
    "setup_pressure.png": {
     "image/png": "[encoded data removed]"
    }
   },
   "cell_type": "markdown",
   "metadata": {},
   "source": [
    "## Setup para un quemador de coflujo (llama no-premezclada)\n",
    "\n",
    "![setup_pressure.png](attachment:setup_pressure.png)"
   ]
  }
 ],
 "metadata": {
  "kernelspec": {
   "display_name": "Python 3",
   "language": "python",
   "name": "python3"
  },
  "language_info": {
   "codemirror_mode": {
    "name": "ipython",
    "version": 3
   },
   "file_extension": ".py",
   "mimetype": "text/x-python",
   "name": "python",
   "nbconvert_exporter": "python",
   "pygments_lexer": "ipython3",
   "version": "3.7.1"
  }
 },
 "nbformat": 4,
 "nbformat_minor": 4
}
