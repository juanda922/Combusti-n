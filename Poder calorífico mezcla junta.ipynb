{
 "cells": [
  {
   "cell_type": "markdown",
   "metadata": {},
   "source": [
    "# Cantera Example: Heating values\n",
    "## Poder calorífico de la mezcla ($90\\%C_{12}H_{26}+10\\%H_2$)\n",
    "La combustión completa de la mezcla sigue la siguiente reacción:\n",
    "<br>\n",
    "$(0.9C_{12}H_{26}+0.1H_2)+a(O_2+3.76N_2)\\rightarrow bCO_2+cH_2O+dN_2$\n",
    "\n",
    "$C: 0.9(12)=b$\n",
    "\n",
    "$H: 0.9(26)+0.1(2)=c(2)$\n",
    "\n",
    "$O: a(2)=b(2)+c$\n",
    "\n",
    "$N: a(3.76)(2)=d(2)$\n",
    "\n",
    "Luego de iterar, se obtiene que:\n",
    "<br>\n",
    "$a=16.7 \\quad b= 10.8 \\quad c=11.8 \\quad d=62.79$\n",
    "\n",
    "$(0.9C_{12}H_{26}+0.1H_2)+16.7(O_2+3.76N_2)\\rightarrow 10.8CO_2+11.8H_2O+62.79N_2$\n",
    "\n",
    "We compute the lower heating value (LHV) as the difference in enthalpy (per kg *mixture*) between reactants and products at constant temperature and pressure, divided by the mass fraction of fuel in the reactants"
   ]
  },
  {
   "cell_type": "code",
   "execution_count": 1,
   "metadata": {},
   "outputs": [
    {
     "name": "stdout",
     "output_type": "stream",
     "text": [
      "LHV_m = 44.569 MJ/kg\n",
      "LHV = 6827.962 MJ/kmol\n",
      "LHV_v = 288.100 MJ/m3\n",
      "HHV_m = 47.952 MJ/kg\n",
      "HHV = 7346.189 MJ/kmol\n",
      "HHV_v = 309.966 MJ/m3\n"
     ]
    }
   ],
   "source": [
    "\n",
    "import cantera as ct\n",
    "gas = ct.Solution('nDodecane_Reitz.cti', 'nDodecane_IG')\n",
    "\n",
    "\n",
    "# Primero se establece el estado de la mezcla\n",
    "gas.TPX = 298.15, 101325, \"C12H26:0.9, H2:0.1, O2:16.7, N2:62.79\"\n",
    "h1_mass = gas.enthalpy_mass\n",
    "\n",
    "Y_C12H26 = gas['C12H26'].Y[0] # returns an array, of which we only want the first element\n",
    "Y_H2 = gas['H2'].Y[0]\n",
    "Y_fuel = Y_C12H26 + Y_H2\n",
    "\n",
    "# Se establece el estado de los productos sin cambiar P y T\n",
    "gas.TPX = None, None, 'CO2:10.8, H2O:11.8, N2:62.79' \n",
    "h2_mass = gas.enthalpy_mass\n",
    "\n",
    "#Cálculo del LHV molar\n",
    "LHV_m = -(h2_mass-h1_mass)/Y_fuel/1e6 #Cálculo del poder calorífico inferior másico\n",
    "M = (0.9)*170 + (0.1)*2 #cálculo del peso molecular de la mezcla\n",
    "LHV = LHV_m*M #Cálculo del poder calorífico inferior molar\n",
    "v_st = 23.7 #Volúmen estándar\n",
    "LHV_v = LHV/v_st\n",
    "\n",
    "print('LHV_m = {:.3f} MJ/kg'.format(LHV_m))\n",
    "print('LHV = {:.3f} MJ/kmol'.format(LHV))\n",
    "print('LHV_v = {:.3f} MJ/m3'.format(LHV_v))\n",
    "\n",
    "#Para hallar el poder calorífico superior\n",
    "water = ct.Water()\n",
    "# Se establece el estado líquido del agua con calidad = 0\n",
    "water.TX = 298, 0\n",
    "h_liquid = water.h\n",
    "# Se establece el estado gaseoso del agua con calidad = 1\n",
    "water.TX = 298, 1\n",
    "h_gas = water.h\n",
    "\n",
    "# Cálculo del poder calorífico superior\n",
    "Y_H2O = gas['H2O'].Y[0]\n",
    "HHV_m = -(h2_mass-h1_mass + (h_liquid-h_gas) * Y_H2O)/Y_fuel/1e6\n",
    "HHV = HHV_m*M\n",
    "HHV_v = HHV/v_st\n",
    "print('HHV_m = {:.3f} MJ/kg'.format(HHV_m))\n",
    "print('HHV = {:.3f} MJ/kmol'.format(HHV))\n",
    "print('HHV_v = {:.3f} MJ/m3'.format(HHV_v))"
   ]
  },
  {
   "cell_type": "markdown",
   "metadata": {},
   "source": [
    "## Cálculo de la fracción másica y fracción elemental en masa\n",
    "\n",
    "Para calcular la fracción elemental en masa de cada uno de los elementos presentes en la mezcla de combustibles, se utilizó la función de Cantera \".elemental_mass_fraction['especie']\".\n",
    "<br>\n",
    "Para calcular la fracción másica de cada uno de los combustibles en la mezcla, se utilizó la función de Cantera \"gas['especie'].Y[0]\"."
   ]
  },
  {
   "cell_type": "code",
   "execution_count": 2,
   "metadata": {},
   "outputs": [
    {
     "name": "stdout",
     "output_type": "stream",
     "text": [
      "La fracción elemental en masa del H es: 0.155\n",
      "La fracción elemental en masa del C es: 0.845\n",
      "La fracción másica del diesel es: 0.999\n",
      "La fracción másica del hidrógeno es: 0.001\n"
     ]
    }
   ],
   "source": [
    "gas1 = ct.Solution('nDodecane_Reitz.cti', 'nDodecane_IG')\n",
    "gas1.TPX = 298.15, 101325, \"C12H26:0.9, H2:0.1\"\n",
    "H = gas1.elemental_mass_fraction('H')\n",
    "C = gas1.elemental_mass_fraction('C')\n",
    "Y_C12H26 = gas1['C12H26'].Y[0]\n",
    "Y_H2 = gas1['H2'].Y[0]\n",
    "print(f\"La fracción elemental en masa del H es: {H:.3f}\")\n",
    "print(f\"La fracción elemental en masa del C es: {C:.3f}\")\n",
    "print(f\"La fracción másica del diesel es: {Y_C12H26:.3f}\")\n",
    "print(f\"La fracción másica del hidrógeno es: {Y_H2:.3f}\")"
   ]
  },
  {
   "cell_type": "markdown",
   "metadata": {},
   "source": [
    "## Cálculo de la masa estequimétrica de aire\n",
    "\n",
    "$m_{fuel} = n_{C_{12}H{26}} M_{C_{12}H{26}}+n_{H_2} M_{H_2}$\n",
    "\n",
    "$m_{air} = n_{air}M_{air}$\n",
    "\n",
    "$m_{air-stoich} = \\frac{m_{air}}{m_{fuel}}$\n"
   ]
  },
  {
   "cell_type": "code",
   "execution_count": 3,
   "metadata": {},
   "outputs": [
    {
     "name": "stdout",
     "output_type": "stream",
     "text": [
      "La masa estequimétrica de combustible es: 15.047 kg_air/kg_fuel\n"
     ]
    }
   ],
   "source": [
    "m_fuel = 0.9*170 + 0.1*2\n",
    "m_aire = 16.7*(4.76)*29\n",
    "m_st_aire = m_aire/m_fuel\n",
    "\n",
    "print(f\"La masa estequimétrica de combustible es: {m_st_aire:.3f} kg_air/kg_fuel\")"
   ]
  },
  {
   "cell_type": "markdown",
   "metadata": {},
   "source": [
    "## Masa y volúmen de humos húmedos \n",
    "$m_{f-hum-total} = n_{CO_2} M_{CO_2} + n_{H_2O} M_{H_2O} + n_{N_2} M_{N_2}$\n",
    "\n",
    "$m_{f-hum} = \\frac{m_{f-hum-total}}{m_{fuel}}$\n",
    "\n",
    "$m_{f-hum} = 15.96 \\frac{kg_{f-hum}}{kg_{fuel}}$\n",
    "\n",
    "$V_{f-hum} = 85.39 \\frac{m^3_{f-hum}}{m^3_{fuel}}$\n"
   ]
  },
  {
   "cell_type": "code",
   "execution_count": 4,
   "metadata": {},
   "outputs": [
    {
     "name": "stdout",
     "output_type": "stream",
     "text": [
      "La masa de humos húmedos es: 15.96 kg_hum/kg_fuel\n",
      "El volúmen de humos húmedos es: 85.39 m3_hum/m3_fuel\n"
     ]
    }
   ],
   "source": [
    "m_f_hum = 10.8*44 + 11.8*18 + 62.79*28\n",
    "mf_hum = m_f_hum/m_fuel\n",
    "vf_hum = 10.8 + 11.8 + 62.79\n",
    "print(f\"La masa de humos húmedos es: {mf_hum:.2f} kg_hum/kg_fuel\")\n",
    "print(f\"El volúmen de humos húmedos es: {vf_hum:.2f} m3_hum/m3_fuel\")"
   ]
  },
  {
   "cell_type": "markdown",
   "metadata": {},
   "source": [
    "## Masa y volúmen de humos secos\n",
    "\n",
    "$m_{f-sec-total} = n_{CO_2} M_{CO_2} + n_{N_2} M_{N_2}$\n",
    "\n",
    "$m_{f-sec} = \\frac{m_{f-sec-total}}{m_{fuel}}$\n",
    "\n",
    "$m_{f-sec} = 14.58 \\frac{kg_{f-sec}}{kg_{fuel}}$\n",
    "\n",
    "$V_{f-sec} = 73.59 \\frac{m^3_{f-sec}}{m^3_{fuel}}$"
   ]
  },
  {
   "cell_type": "code",
   "execution_count": 5,
   "metadata": {},
   "outputs": [
    {
     "name": "stdout",
     "output_type": "stream",
     "text": [
      "La masa de humos secos es: 14.58 kg_hum/kg_fuel\n",
      "El volúmen de humos secos es: 73.59 m3_hum/m3_fuel\n"
     ]
    }
   ],
   "source": [
    "m_f_sec = 10.8*44 + 62.79*28\n",
    "mf_sec = m_f_sec/m_fuel\n",
    "vf_sec = 10.8 + 62.79\n",
    "\n",
    "print(f\"La masa de humos secos es: {mf_sec:.2f} kg_hum/kg_fuel\")\n",
    "print(f\"El volúmen de humos secos es: {vf_sec:.2f} m3_hum/m3_fuel\")"
   ]
  },
  {
   "cell_type": "markdown",
   "metadata": {},
   "source": [
    "## Porcentaje máximo de CO2\n",
    "Para hallar el porcentaje máximo de $CO_2$ en los productos de combustión:\n",
    "\n",
    "$\\%max-CO_2 = \\frac{n_{CO_2}}{n_{CO_2} + n_{N_2}}100\\%$\n",
    "\n",
    "$\\%max-CO_2 = 14.68 \\%$"
   ]
  },
  {
   "cell_type": "code",
   "execution_count": 6,
   "metadata": {},
   "outputs": [
    {
     "name": "stdout",
     "output_type": "stream",
     "text": [
      "El porcentaje máximo de CO2 es: 14.68 %\n"
     ]
    }
   ],
   "source": [
    "porcentaje_CO2 = 10.8/(10.8 + 62.79)*100\n",
    "\n",
    "print(f\"El porcentaje máximo de CO2 es: {porcentaje_CO2:.2f} %\")"
   ]
  },
  {
   "cell_type": "markdown",
   "metadata": {},
   "source": [
    "## Intervalo de inflamabilidad\n",
    "\n",
    "Los límites de inflamabilidad se calculan siguiendo la relación de volúmen de gas combustible y volúmen de mezcla combustible-aire. Para los componentes de la mezcla indicada se tienen los siguientes límites de inflamabilidad:\n",
    "\n",
    "$LI=\\frac{V_{fuel}}{V_{fuel}+V_{air}}100\\%$\n",
    "\n",
    "$LII_{C_{12}H{26}} = 0.7\\%\\quad LII_{H_2} = 4\\%$\n",
    "\n",
    "$LSI_{C_{12}H{26}} = 5\\%\\quad LSI_{H_2} = 75\\%$\n",
    "\n",
    "Luego, los límites de inflamabilidad de la mezcla: \n",
    "\n",
    "$\\frac{1}{LII_{mixture}} = \\frac{x_{C_{12}H{26}}}{LII_{C_{12}H{26}}} + \\frac{x_{H_2}}{LII_{H_2}}$\n",
    "\n",
    "$\\frac{1}{LSI_{mixture}} = \\frac{x_{C_{12}H{26}}}{LSI_{C_{12}H{26}}} + \\frac{x_{H_2}}{LSI_{H_2}}$\n",
    "\n",
    "$LII_{mixture} = 0.76\\% \\quad LSI_{mixture} = 5.51\\% \\quad LI_{estequiométrico} = 1.24\\%$\n",
    "\n",
    "Como puede observarse, la relación estequiométrica se encuentra dentro del intervalo de inflamabilidad.\n",
    "<br>\n",
    "Por otro lado, el dosado relativo en el LII y LSI de la mezcla es $\\phi_{LII}=0.61$ y $\\phi_{LSI}=4.38$ respectivamente. Del mismo modo, el factor de aireación en el LII y LSI es $\\lambda_{LII}=1.65$ y $\\lambda_{LSI}=0.23$ respectivamente."
   ]
  },
  {
   "cell_type": "code",
   "execution_count": 7,
   "metadata": {},
   "outputs": [
    {
     "name": "stdout",
     "output_type": "stream",
     "text": [
      "El intervalo de inflamabilidad de la mezcla en % es: [0.76;5.51]\n",
      "La relación estequiométrica combustible/aire toma un valor de 1.24%.\n",
      "El dosado relativo en el LII y LSI es 0.61 y 4.64 respectivamente.\n",
      "El factor de aireación en el LII y LSI es 1.64 y 0.22 respectivamente.\n"
     ]
    }
   ],
   "source": [
    "LLI_C12H26 = 0.7\n",
    "LSI_C12H26 = 5\n",
    "LLI_H2 = 4\n",
    "LSI_H2 = 75\n",
    "LLI_mix = 1/(0.9/LLI_C12H26 + 0.1/LLI_H2)\n",
    "LSI_mix = 1/(0.9/LSI_C12H26 + 0.1/LSI_H2)\n",
    "LI_stoich = 1/(1+16.7*4.76)*100\n",
    "fuel_air_stoich = 1/(16.7*4.76)\n",
    "fuel_air_LLI = 1/(1/(LLI_mix/100)-1)\n",
    "fuel_air_LSI = 1/(1/(LSI_mix/100)-1)\n",
    "phi_LII = fuel_air_LLI/fuel_air_stoich\n",
    "phi_LSI = fuel_air_LSI/fuel_air_stoich\n",
    "f_air_LII = 1/phi_LII\n",
    "f_air_LSI = 1/phi_LSI\n",
    "print(f\"El intervalo de inflamabilidad de la mezcla en % es: [{LLI_mix:.2f};{LSI_mix:.2f}]\")\n",
    "print(f\"La relación estequiométrica combustible/aire toma un valor de {LI_stoich:.2f}%.\")\n",
    "print(f\"El dosado relativo en el LII y LSI es {phi_LII:.2f} y {phi_LSI:.2f} respectivamente.\")\n",
    "print(f\"El factor de aireación en el LII y LSI es {f_air_LII:.2f} y {f_air_LSI:.2f} respectivamente.\")"
   ]
  },
  {
   "cell_type": "markdown",
   "metadata": {},
   "source": [
    "## Gravedad específica\n",
    "\n",
    "Para hallar la gravedad específica de la mezcla, primero hallamos la gravedad específica de cada uno de los componentes. Por el lado del dodecano, se asume que está en fase vapor y que tiene comportamiento de gas ideal.\n",
    "<br>\n",
    "Dadas las anteriores simplificaciones, se tiene que:\n",
    "\n",
    "$d=\\frac{M_{fuel}}{M_{air}}$\n",
    "\n",
    "$d_{mix}=\\sum x_id_i$\n",
    "\n",
    "$d_{mix}=5.28$"
   ]
  },
  {
   "cell_type": "code",
   "execution_count": 8,
   "metadata": {},
   "outputs": [
    {
     "name": "stdout",
     "output_type": "stream",
     "text": [
      "La gravedad específica de la mezcla es: 5.28\n",
      "La gravedad específica del H2: 0.07\n",
      "La gravedad específica del C12H26: 5.86\n"
     ]
    }
   ],
   "source": [
    "M_C12H26 = 170 #kg/kmol\n",
    "M_H2 = 2 #kg/kmol\n",
    "M_air = 29 #kg/kmol\n",
    "d_C12H26 = M_C12H26/M_air\n",
    "d_H2 = M_H2/M_air\n",
    "d_mix = 0.9*d_C12H26 + 0.1*d_H2\n",
    "print(f\"La gravedad específica de la mezcla es: {d_mix:.2f}\")\n",
    "print(f\"La gravedad específica del H2: {d_H2:.2f}\")\n",
    "print(f\"La gravedad específica del C12H26: {d_C12H26:.2f}\")"
   ]
  },
  {
   "cell_type": "markdown",
   "metadata": {},
   "source": [
    "## Temperatura de llama adiabática\n",
    "\n",
    "Para hallar la temperatura de llama adiabática se asume combustión completa. Esta temperatura, se alcanza cuando el dosado relativo o el factos de aireación es estequiométrico."
   ]
  },
  {
   "cell_type": "code",
   "execution_count": 9,
   "metadata": {},
   "outputs": [
    {
     "name": "stdout",
     "output_type": "stream",
     "text": [
      "La temperatura de llama adiabática para la mezcla es de 2285.73 K.\n"
     ]
    }
   ],
   "source": [
    "\n",
    "phi = 1 #en la relación estequimétrica se alcanza la temperatura de llama adiabática\n",
    "gas.set_equivalence_ratio(phi,'C12H26:0.9, H2:0.1', 'O2:16.7, N2:62.79')\n",
    "gas.TP = 298, ct.one_atm\n",
    "gas.equilibrate('HP')\n",
    "gas.T\n",
    "print(f\"La temperatura de llama adiabática para la mezcla es de {gas.T:.2f} K.\")"
   ]
  },
  {
   "cell_type": "markdown",
   "metadata": {},
   "source": [
    "## Índice de Wobbe\n",
    "\n",
    "$W = HHV /\\sqrt{d}$\n",
    "\n",
    "$W_{mix} = \\frac{\\sum x_iHHV_{v,i}}{\\sqrt{\\sum x_id_i}}$"
   ]
  },
  {
   "cell_type": "code",
   "execution_count": 10,
   "metadata": {},
   "outputs": [
    {
     "name": "stdout",
     "output_type": "stream",
     "text": [
      "El índice de Wobbe de la mezcla es: 134.86 MJ/m3\n"
     ]
    }
   ],
   "source": [
    "import math\n",
    "\n",
    "HHV_v_H2 = 11.966\n",
    "HHV_v_C12H26 = 343.072\n",
    "W_mix = (0.9*HHV_v_C12H26+0.1*HHV_v_H2)/(math.sqrt(0.9*d_C12H26+0.1*d_H2))\n",
    "print(f\"El índice de Wobbe de la mezcla es: {W_mix:.2f} MJ/m3\")"
   ]
  },
  {
   "cell_type": "markdown",
   "metadata": {},
   "source": [
    "## Temperatura de rocío\n",
    "\n",
    "Para hallar la temperatura de rocío debemos hallar en un principio la presión parcial del $H_2O$ en los productos. Posteriormente buscamos la temperatura de inicio de la condensación para dicha presión."
   ]
  },
  {
   "cell_type": "code",
   "execution_count": 16,
   "metadata": {},
   "outputs": [
    {
     "name": "stdout",
     "output_type": "stream",
     "text": [
      "La temperatura de rocío es: 325.75 K\n"
     ]
    }
   ],
   "source": [
    "p_productos = 101325 #Pa, pues se asume que los productos salen a condiciones estándar \n",
    "n_productos = 85.39\n",
    "n_H2O = 11.8\n",
    "P_parcial_H2O = (n_H2O/n_productos)*p_productos\n",
    "w = ct.Water()\n",
    "w.PX = P_parcial_H2O, 1\n",
    "T_rocio = w.T\n",
    "print(f\"La temperatura de rocío es: {T_rocio:.2f} K\")"
   ]
  },
  {
   "cell_type": "markdown",
   "metadata": {},
   "source": [
    "## Factor de emisión de CO2\n",
    "\n",
    "Para hallar el factor de emisión, debemos hallar la masa de CO2 producida en la reacción y posteriormente dividirla por el poder calorífico inferior másico.\n",
    "\n",
    "$m_{CO_2}=\\frac{M_{CO_2}n_{CO_2}}{n_{C_{12}H{26}}M_{C_{12}H{26}}+n_{H_2}M_{H_2}}$\n",
    "\n",
    "$Fe=\\frac{m_{CO_2}}{LHV_m}$"
   ]
  },
  {
   "cell_type": "code",
   "execution_count": 12,
   "metadata": {},
   "outputs": [
    {
     "name": "stdout",
     "output_type": "stream",
     "text": [
      "El factor de emisión de CO2 es de 69596.17 kg_CO2/TJ_LHV\n"
     ]
    }
   ],
   "source": [
    "m_CO2 = (44*10.8)/(170*0.9+2*0.1)\n",
    "Fe = m_CO2/(LHV_m*1e-6)\n",
    "print(f\"El factor de emisión de CO2 es de {Fe:.2f} kg_CO2/TJ_LHV\")"
   ]
  },
  {
   "cell_type": "markdown",
   "metadata": {},
   "source": [
    "## Reducción de aire respecto a diesel puro\n",
    "\n",
    "Para hallar el porcentaje de reducción de aire respecto a la condición de diésel puro, se toman los valores de las moles de aire para la dos condiciones, diésel puro y la mezcla diésel-Hidrógeno.\n",
    "\n",
    "$C_{12}H_{26}+18.5(O_2+3.76N_2)\\rightarrow 12CO_2+13H_2O+69.56N_2$\n",
    "\n",
    "$(0.9C_{12}H_{26}+0.1H_2)+16.7(O_2+3.76N_2)\\rightarrow 10.8CO_2+11.8H_2O+62.79N_2$\n",
    "\n",
    "Posteriormente, se restan las dos cantidades y se divide el resultado por las moles de aire en el caso del diésel puro.\n",
    "\n",
    "$\\%reduccion-aire = \\frac{18.5-16.7}{18.5}100\\%$\n"
   ]
  },
  {
   "cell_type": "code",
   "execution_count": 13,
   "metadata": {},
   "outputs": [
    {
     "name": "stdout",
     "output_type": "stream",
     "text": [
      "El porcentaje de reducción de aire respecto al caso de diésel puro es: 9.73%\n"
     ]
    }
   ],
   "source": [
    "red_air = (18.5-16.70)/18.5*100\n",
    "print(f\"El porcentaje de reducción de aire respecto al caso de diésel puro es: {red_air:.2f}%\")"
   ]
  },
  {
   "cell_type": "markdown",
   "metadata": {},
   "source": [
    "## Botellas de agua que se pueden llenar quemando 1000 kg de combustible\n",
    "\n",
    "En primer lugar, debemos calcular el número de moles a los que corresponden 1000 kg de combustible, para esto utilizamos la ecuación $m=n*M$.\n",
    "\n",
    "$n:$ Es el número de moles [kmol]\n",
    "\n",
    "$m:$ Es la masa [kg]\n",
    "\n",
    "$M:$ Es el peso molecular [kg/kmol]\n",
    "\n",
    "El número de moles que nos arroje el cálculo, multiplicará las moles de combustible:\n",
    "\n",
    "$6.53(0.9C_{12}H_{26}+0.1H_2)+a(O_2+3.76N_2)\\rightarrow bCO_2+cH_2O+dN_2$\n",
    "\n",
    "$C: 6.53(0.9)(12)=b$\n",
    "\n",
    "$H: 6.53(0.9(26)+0.1(2))=c(2)$\n",
    "\n",
    "$O: a(2)=b(2)+c$\n",
    "\n",
    "$N: a(3.76)(2)=d(2)$\n",
    "\n",
    "$6.53(0.9C_{12}H_{26}+0.1H_2)+109.1(O_2+3.76N_2)\\rightarrow 70.52CO_2+77.05H_2O+410N_2$\n",
    "\n",
    "Nuevamente se balancea la ecuación y se calcula la masa de agua que se obtiene de realizar la combustión. Finalmente se tiene que quemando 1000 kg de combustible, se obtienen 1386 botellas de agua."
   ]
  },
  {
   "cell_type": "code",
   "execution_count": 14,
   "metadata": {},
   "outputs": [
    {
     "name": "stdout",
     "output_type": "stream",
     "text": [
      "El número de botellas que se pueden llenar quemando 1000 kg de combustible es: 1386.0\n"
     ]
    }
   ],
   "source": [
    "n_fuel = 1000/(170*0.9+2*0.1)\n",
    "\n",
    "n_H2O = 77.05 #kmol\n",
    "M_H2O = 18 #kg/kmol\n",
    "m_H2O = n_H2O*M_H2O\n",
    "rho_H2O = 1 #kg/lt \n",
    "v_H2O = m_H2O/rho_H2O\n",
    "print(\"El número de botellas que se pueden llenar quemando 1000 kg de combustible es: {}\" .format(v_H2O//1))\n"
   ]
  },
  {
   "attachments": {
    "setup_pressure.png": {
     "image/png": "[encoded data removed]"
    }
   },
   "cell_type": "markdown",
   "metadata": {},
   "source": [
    "## Setup para un quemador de coflujo (llama no-premezclada)\n",
    "\n",
    "![setup_pressure.png](attachment:setup_pressure.png)"
   ]
  }
 ],
 "metadata": {
  "kernelspec": {
   "display_name": "Python 3",
   "language": "python",
   "name": "python3"
  },
  "language_info": {
   "codemirror_mode": {
    "name": "ipython",
    "version": 3
   },
   "file_extension": ".py",
   "mimetype": "text/x-python",
   "name": "python",
   "nbconvert_exporter": "python",
   "pygments_lexer": "ipython3",
   "version": "3.7.7"
  }
 },
 "nbformat": 4,
 "nbformat_minor": 4
}
