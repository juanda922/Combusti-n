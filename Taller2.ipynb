import cantera as ct
import numpy as np
import math


def calculo(P_o, T_o, excess_air):
    
    W_CH4 = 16 #Peso molecular del CH4 g/mol
    HHV_m = 55.496 #MJ/kg, poder calorífico superior másico del metano
    coef_air = 2 #coeficiente que acompaña al aire en la reacción estequiométrica de CH4
    a = -0.3 #coeficiente definido por Westbrook y Dryer
    b = 1.3 #coeficiente definido por Westbrook y Dryer
    E_a = 30*4.1868*1000 #J/mol, el 4.1868 es el factor de conversión dentre cal y J
    A_o = 8.3*1e05 #Experimentalmente definido por Westbrook y Dryer
    n_CH4 = 1
    n_O2 = coef_air*excess_air*1
    n_N2 = coef_air*excess_air*3.76
    R_u = ct.gas_constant/1000 #J/mol*K

    #Cálculo de la concentración
    x_CH4 = (n_CH4/(n_CH4 + n_O2 + n_N2)) #Fracción molar del metano en los reactivos
    x_O2 = (n_O2/(n_CH4 + n_O2 + n_N2)) #Fracción molar del oxígeno en los reactivos
    C_CH4 = ((P_o*x_CH4)/(R_u*T_o))/1000000 #[mol/cc] la división por 1000 es para hacer la conversión de m3 a cc
    C_O2 = ((P_o*x_O2)/(R_u*T_o))/1000000 #[mol/cc] la división por 1000 es para hacer la conversión de m3 a cc

    #Cálculo de la tasa de reacción
    R = (A_o*math.exp(-(E_a)/(R_u*T_o))*(C_CH4**a)*(C_O2**b))*1000 #(mol/cc*s)*10^-3
    r_dot_CH4 = -R #Tasa de consumo molar del CH4 (mol/cc*s)*10^-3
    Q_dot_CH4 = r_dot_CH4*W_CH4 #Tasa de consumo másica del CH4 (g/cc*s)*10^-3
    HHR = R*W_CH4*HHV_m #Energía liberada por unidad de volúmen kW/cc

    #Cálculo tiempo para que se consuma cierta cantidad de combustible
    dCH4_dt = -(A_o*math.exp(-E_a/(R_u*T_o)))*(2**1.3) #cálculo de coeficiente que acompaña al tiempo 
    tao = 0.9 #relación de concentración de combustible en el tiempo t y concentración inicial
    t = (1/dCH4_dt)*math.log(tao)*1000 #Tiempo para consumirse el 90% en ms
    
    print("Como condiciones de entrada se tiene que: P={}, T={} y factor de aireación={}".format(P_o, T_o, excess_air))
    print("La tasa de consumo molar del CH4 es: {:.6f} (mol/cc*s)*10^-3".format(r_dot_CH4))
    print("La tasa de consumo másica del CH4 es: {:.6f} (g/cc*s)*10^-3".format(Q_dot_CH4))
    print("La tasa de liberación de energía por unidad de volúmen es: {:.6f} kW/cc".format(HHR))
    

P = float(input("Ingrese la presión a la cual se lleva a cabo la reacción en Pa: \n")) #Pa
T = float(input("Ingrese la temperatura a la cual se lleva a cabo la reacción en K:\n")) #K 
air_lambda = float(input("Ingrese el exceso de aire:\n")) #Exceso de aire

calculo(P, T, air_lambda)





import matplotlib.pyplot as plt

P_o = 1e05
T_o = 1200
excess_air = np.linspace(0.5,1.5,num=50)
phi = 1/excess_air
W_CH4 = 16 #Peso molecular del CH4 g/mol
HHV_m = 55.496 #MJ/kg, poder calorífico superior másico del metano
coef_air = 2 #coeficiente que acompaña al aire en la reacción estequiométrica de CH4
a = -0.3 #coeficiente definido por Westbrook y Dryer
b = 1.3 #coeficiente definido por Westbrook y Dryer
E_a = 30*4.1868*1000 #J/mol, el 4.1868 es el factor de conversión dentre cal y J
A_o = 8.3*1e05 #Experimentalmente definido por Westbrook y Dryer
n_CH4 = 1
n_O2 = coef_air*excess_air*1
n_N2 = coef_air*excess_air*3.76
R_u = ct.gas_constant/1000 #J/mol*K

#Cálculo de la concentración
x_CH4 = (n_CH4/(n_CH4 + n_O2 + n_N2)) #Fracción molar del metano en los reactivos
x_O2 = (n_O2/(n_CH4 + n_O2 + n_N2)) #Fracción molar del oxígeno en los reactivos
C_CH4 = ((P_o*x_CH4)/(R_u*T_o))/1000000 #[mol/cc] la división por 1000 es para hacer la conversión de m3 a cc
C_O2 = ((P_o*x_O2)/(R_u*T_o))/1000000 #[mol/cc] la división por 1000 es para hacer la conversión de m3 a cc

#Cálculo de la tasa de reacción
R = (A_o*math.exp(-(E_a)/(R_u*T_o))*(C_CH4**a)*(C_O2**b))*1000 #(mol/cc*s)*10^-3
r_dot_CH4 = -R #Tasa de consumo molar del CH4 (mol/cc*s)*10^-3
Q_dot_CH4 = r_dot_CH4*W_CH4 #Tasa de consumo másica del CH4 (g/cc*s)*10^-3
HHR = R*W_CH4*HHV_m #Energía liberada por unidad de volúmen kW/cc

plt.plot(phi, R)

----------------------------------------------------------------------------------

# Punto 2

Un horno de fusión opera con gas natural de Cusiana, la temperatura con que salen del
horno los gases de combustión es 750 C, el factor de aireación es 1.2, el diagnóstico de la
combustión muestra que esta es completa, la potencia térmica con base al PCS es 100 kW, la
eficiencia energética global es del 30 % con base al PCS. Se asumen las condiciones atmosféricas de Medellín.
<br>
Las condiciones atmosféricas de medellin son $P=85.4kPa$ y $T=293k$.
<br>
Como simplificación, se tomo el porcentaje de hidrocarburos pesados y de butano, y se sumó al porcentaje de propano. La combustión completa del gas natural de Cusiana con exceso de aire sigue la siguiente ecuación:

$(75.68\%CH_4 + 11.15\%C_2H_6 + 7.06\%C_3H_8 + 0.91\%N_2 + 5.2\%CO_2)+a\lambda (O_2 + 3.76N_2)\rightarrow bCO_2 + cH_2O + dO_2 + eN_2$

$C: 0.7568*1+0.1115*2+0.0706*3+0.052*1=b$

$H: 0.7568*4+0.1115*6+0.0706*8=c*2$

$N: 0.0091+a\lambda3.76=e$

$O: 0.052*2+a\lambda*2=b*2+c+d*2$

$(75.68\%CH_4 + 11.15\%C_2H_6 + 7.06\%C_3H_8 + 0.91\%N_2 + 5.2\%CO_2)+2.26\lambda (O_2 + 3.76N_2)\rightarrow 1.24CO_2 + 2.13H_2O + 0.45O_2 + 10.19N_2$




------------------------------------------------------------------------------------

## Cálculo del consumo de combustible

Para hallar el consumo de combustible, se hace uso del valor del poder calorífico superior del gas natural de Cusiana, el cual se encuentra disponible en la cartilla de "Estimación de las propiedades de combustión de combustibles gaseosos". Posteriormente, con el valor de la potencia térmica (100 kW), se calcula el consumo másico de combustible. Con este valor y la ecuación de gas ideal, se halla el consumo volumétrico en sitio de combustible, el cual luego se convierte a consumo volumétrico estándar.

$HHV_{m-Cusiana} = 48600 \frac{kJ}{kg}\quad Pt = 100 kW$

$\dot{m}_{fuel} = 3600\frac{Pt}{HHV_{m-Cusiana}}[\frac{kg}{hr}]$

$M_{fuel} = n_{CH_4}*16 + n_{C_2H_6}*30 + n_{C_3H_8}*44 + n_{N_2}*28 + n_{CO_2}*44 [\frac{kg}{kmol}]$

$R_{fuel} = \frac{R_U}{M_{fuel}}[\frac{J}{kgK}]$

$\dot{V}_{fuel-sitio} = \dot{m}_{fuel}\frac{R_{fuel}T}{P}[\frac{m^3}{hr}]$

$\dot{V}_{fuel-st} = \dot{V}_{fuel-sitio} \frac{PT_{st}}{P_{st}T}[\frac{m^3_{st}}{hr}]$





-----------------------------------------------------------------------------------

coef_a = 2.257
coef_b = 1.244
coef_c = 2.131
coef_d = 0.4516
coef_e = 10.19
exceso = 1.2

#Reactivos
n_CH4 = 0.7568
n_C2H6 = 0.1115
n_C3H8 = 0.0706
n_N2_fuel = 0.0091
n_CO2 = 0.052
n_O2 = coef_a*exceso
n_N2 = coef_a*exceso*3.76
n_react = n_CH4 + n_C2H6 + n_C3H8 + n_CO2 + n_O2 + n_N2 + n_N2_fuel
n_mezcla = n_CH4 + n_C2H6 + n_C3H8 + n_CO2 + n_N2_fuel
x_CH4 = n_CH4/n_mezcla
x_C2H6 = n_C2H6/n_mezcla
x_C3H8 = n_C3H8/n_mezcla
x_CO2 = n_CO2/n_mezcla
x_N2_fuel = n_N2_fuel/n_mezcla 

#Cálculo del consumo másico y volumétrico de combustible
T = 293 #K-Cond de Medellin
P = 85400 #Pa-Cond de Medellin
T_st = 288.6 #K - Temperatura estándar
P_st = 101300 #Pa - Presión estándar
HHV_m = 48600 #kJ/kg - libro de Amell
Pt = 100 #kW
m_dot_fuel = (Pt/HHV_m)*3600 #Flujo másico en kg/hr
M_mezcla = x_CH4*16 + x_C2H6*30 + x_C3H8*44 + x_N2_fuel*28 + x_CO2*44 #Peso molecular de la mezcla kg/kmol
R_mezcla = ct.gas_constant/M_mezcla #J/kg*k
v_dot_fuel_sitio = m_dot_fuel*R_mezcla*(T/P) #m3/hr consumo de combustible en sitio
v_dot_fuel_st = v_dot_fuel_sitio*(P/P_st)*(T_st/T) #m3/hr consumo de combustible estándar

print("El consumo de gas natural en kg/hr es: {:.3f}".format(m_dot_fuel))
print("El consumo de gas natural en m3_st/hr es: {:.3f}".format(v_dot_fuel_st))

----------------------------------------------------------------------

## Consumo de aire

Para hallar el requerimiento del aire se realiza un procedimiento análogo al que se hizo para hallar el consumo de combustible. En este caso, adicional a lo descrito anteriormente, se debe calcular en un principio la relación de kilogramos de aire necesarios para quemar un kilogramo de combustible. Este valor, es posteriormente multiplicado por el flujo másico de combustible, lo cual nos arrojará el flujo másico de aire necesario para quemar esa cantidad de combustible.

$R_{air} = 287 [\frac{J}{kgK}]$

$n_{air} = n_{O_2} + n_{N_2} $

$M_{air} = 29 [\frac{kg}{kmol}]$

$m_{air} = n_{air}*M_{air} \quad m_{fuel} = n_{fuel}*M_{fuel}$

$m_{air-fuel} =\frac{m_{air}}{m_{fuel}}$

$\dot{m}_{air} = \dot{m}_{fuel}*m_{air-fuel}$


----------------------------------------------------------------------




R_air = 287 #J/kgK
n_air = n_O2 + n_N2 #Moles de aire consumidas por mol de combustible
M_air = 29 #peso molecular del aire kg/kmol
m_fuel = M_mezcla*1 #Masa de combustible
m_air = n_air*M_air #Masa de aire 
m_air_fuel = m_air/m_fuel #Masa de aire por kg de combustible
m_dot_air = m_dot_fuel*m_air_fuel #Flujo másico de aire en kg/hr
v_dot_air_sitio = m_dot_air*R_air*T/P #m3/hr 
v_dot_air_st = v_dot_air_sitio*(P/P_st)*(T_st/T) #m3/hr 
print("El requerimiento de aire en kg/hr es: {:.3f}".format(m_dot_air))
print("El requerimiento de aire en m3_st/hr es: {:.3f}".format(v_dot_air_st))
--------------------------------------------------------------------


## Flujo de humos húmedos

---------------------------------------------------



#Se definen las condiciones a las que salen los productos
T_p = 1043
P_p = 85400
#Se definen las moles de cada especie
n_CO2_p = coef_b
n_H2O_p = coef_c
n_O2_p = coef_d
n_N2_p = coef_e
n_hum = n_CO2_p + n_H2O_p + n_O2_p + n_N2_p
#Se hallan las fracciones molares de cada especie en los productos
x_CO2_P = n_CO2_p/n_hum
x_H2O_p = n_H2O_p/n_hum
x_O2_p = n_O2_p/n_hum
x_N2_p = n_N2_p/n_hum
#Se caulcula el peso molecular y la R de los humos
M_hum = x_CO2_p*44 + x_H2O_p*18 + x_O2_p*32 + x_N2_p*28
R_hum = ct.gas_constant/M_hum
#Se calcula lo demás
m_hum = n_hum*M_hum
m_hum_fuel = m_hum/m_fuel #relación kg de humos/ kg de combustible
m_dot_hum = m_dot_fuel*m_hum_fuel
v_dot_hum_sitio = m_dot_hum*R_hum*T_p/P_p #m3/hr 
v_dot_hum_st = v_dot_hum_sitio*(P_p/P_st)*(T_st/T_p) #m3/hr

print("La producción de humos húmedos en kg/hr es: {:.3f}".format(m_dot_hum))
print("La producción de humos húmedos en m3_st/hr es: {:.3f}".format(v_dot_hum_st))
print("La producción de humos húmedos en m3_sitio/hr es: {:.3f}".format(v_dot_hum_sitio))
---------------------------------------------------
## Producción de aluminio

Para hallar cuánto aluminio puede fundirse con el sistema de combustión actual, se debe hallar en primera instancia la energía necesaria para su fusión. Tomando los datos de EES (Engineering Equation Solver), se tiene que la entalpía de fusión es de $\Delta h_{fusion}=397\frac{kJ}{kg}$. Por otro lado, tomando la temperatura promedio de Medellin (293 K), se debe hallar la energía necesaria para llevar el aluminio hasta su temperatura de fusión (933 K). De la misma manera, usando EES se tiene que $\Delta h_{sensible}=664.2\frac{kJ}{kg}$. Por lo tanto, para fundir un kilogramo de aluminio, es necesario proporcionar a la carga $q_{carga}=1061.2\frac{kJ}{kg}$.



---------------------------------------------------




eff_global = 0.3
energia_hora = Pt*3600*eff_global #kJ/hr energía proporcionada por el sistema de combustión en 1 hora, se multiplica por la eficiencia de 30%
q_carga = 1061.2 #kJ/kg energía necesaria para calentar y fundir un kilogramo de aluminio
m_aluminio = energia_hora/q_carga
print("Cada hora se pueden producir {:.3f} kilogramos de aluminio".format(m_aluminio))

---------------------------------------------------

## Factor de emisión por kilogramo de aluminio


---------------------------------------------------



m_fuel_necesaria = q_carga/(HHV_m*0.3) #se encuentra la masa de combustible necesaria para fundir 1kg de Al
n_fuel_necesaria = m_fuel_necesaria/M_mezcla #se encuentran las moles de combustible necesarias
n_CO2_fuel = 1.24 #moles de CO2 por 1 mol de combustible
n_CO2_prod_1kgAl = n_CO2_fuel*n_fuel_necesaria
m_CO2_prod_1kgAl = n_CO2_prod_1kgAl*44
print("Por cada kilogramo de aluminio producido, se emiten {:.3f} kilogramos de CO2".format(m_CO2_prod_1kgAl))

---------------------------------------------------


##Proceso de optimizado con quemadores auto regenerativos
---------------------------------------------------



#cambio de la eficiencia a 80%

#cálculo de la masa de combustible y el porcentaje de reducción
eff_global_new1 = 0.8
Pt_new1 = (m_aluminio*q_carga)/(eff_global_new1*3600)
m_dot_fuel_new1 = (Pt_new1/HHV_m)*3600 #Flujo másico en kg/hr
v_dot_fuel_sitio_new1 = m_dot_fuel_new1*R_mezcla*(T/P) #m3/hr consumo de combustible en sitio
v_dot_fuel_st_new1 = v_dot_fuel_sitio_new1*(P/P_st)*(T_st/T) #m3/hr consumo de combustible estándar
ahorro = v_dot_fuel_st-v_dot_fuel_st_new1
print("El consumo de gas natural en kg/hr es: {:.3f}".format(m_dot_fuel_new1))
print("El consumo de gas natural en m3_st/hr es: {:.3f}".format(v_dot_fuel_st_new1))
print("El ahorro de combustible es de {:.3f} m3_st/hr".format(ahorro))

#cálculo del nuevo factor de emisión
m_fuel_necesaria_new1 = q_carga/(HHV_m*eff_global_new1) #se encuentra la masa de combustible necesaria para fundir 1kg de Al
n_fuel_necesaria_new1 = m_fuel_necesaria_new1/M_mezcla #se encuentran las moles de combustible necesarias
n_CO2_prod_1kgAl_new1 = n_CO2_fuel*n_fuel_necesaria_new1
m_CO2_prod_1kgAl_new1 = n_CO2_prod_1kgAl_new1*44
disminucion_CO2 = ((m_CO2_prod_1kgAl-m_CO2_prod_1kgAl_new1)/m_CO2_prod_1kgAl)*100
print("Por cada kilogramo de aluminio producido, se emiten {:.3f} kilogramos de CO2".format(m_CO2_prod_1kgAl_new1))
print("La disminución en el factor de emisión respecto al caso incial es de {:.3f}%".format(disminucion_CO2))





#Manteniendo la potencia térmica inicial y con quemadores autoregenerativos, aumentando producción

energia_hora_new2 = Pt*3600*eff_global_new1 #kJ/hr energía proporcionada por el sistema de combustión en 1 hora, se multiplica por la eficiencia de 30%
m_aluminio_new2 = energia_hora_new2/q_carga
print("Cada hora se pueden producir {:.3f} kilogramos de aluminio de más al aumentar la eficiencia".format(m_aluminio_new2-m_aluminio))
