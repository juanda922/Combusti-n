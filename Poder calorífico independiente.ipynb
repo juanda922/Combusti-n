{
 "cells": [
  {
   "cell_type": "markdown",
   "metadata": {},
   "source": [
    "\n",
    "$H_2+0.5(O_2+3.76N_2)\\rightarrow H_2O+1.88N_2$"
   ]
  },
  {
   "cell_type": "code",
   "execution_count": 14,
   "metadata": {},
   "outputs": [
    {
     "name": "stdout",
     "output_type": "stream",
     "text": [
      "LHV_m = 119.972 MJ/kg\n",
      "LHV = 239.943 MJ/kmol\n",
      "LHV = 10.124 MJ/m3\n",
      "HHV_m = 141.801 MJ/kg\n",
      "HHV = 283.602 MJ/kmol\n",
      "HHV_v = 11.966 MJ/m3\n"
     ]
    }
   ],
   "source": [
    "import cantera as ct\n",
    "gas_H2 = ct.Solution('nDodecane_Reitz.cti', 'nDodecane_IG')\n",
    "\n",
    "# Primero se establece el estado de la mezcla\n",
    "gas_H2.TPX = 298.15, 101325, \"H2:1, O2:0.5, N2:1.88\"\n",
    "h1_mass_H2 = gas_H2.enthalpy_mass\n",
    "h1_mole_H2 = gas_H2.enthalpy_mole\n",
    "\n",
    "Y_H2 = gas_H2['H2'].Y[0]\n",
    "\n",
    "\n",
    "# Se establece el estado de los productos sin cambiar P y T\n",
    "gas_H2.TPX = None, None, 'H2O:1, N2:1.88' \n",
    "h2_mass_H2 = gas_H2.enthalpy_mass\n",
    "h2_mole_H2 = gas_H2.enthalpy_mole\n",
    "\n",
    "M_H2 = 2\n",
    "LHV_m = -(h2_mass_H2-h1_mass_H2)/Y_H2/1e6\n",
    "LHV = LHV_m*M_H2\n",
    "LHV_v = LHV/23.7\n",
    "print('LHV_m = {:.3f} MJ/kg'.format(LHV_m))\n",
    "print('LHV = {:.3f} MJ/kmol'.format(LHV))\n",
    "print('LHV = {:.3f} MJ/m3'.format(LHV_v))\n",
    "\n",
    "#Para hallar el poder calorífico superior\n",
    "water = ct.Water()\n",
    "# Se establece el estado líquido del agua con calidad = 0\n",
    "water.TX = 298, 0\n",
    "h_liquid = water.h\n",
    "# Se establece el estado gaseoso del agua con calidad = 1\n",
    "water.TX = 298, 1\n",
    "h_gas = water.h\n",
    "Y_H2O = gas_H2['H2O'].Y[0]\n",
    "\n",
    "HHV_m = -(h2_mass_H2-h1_mass_H2 + (h_liquid-h_gas) * Y_H2O)/Y_H2/1e6\n",
    "HHV = HHV_m*M_H2\n",
    "HHV_v = HHV/23.7\n",
    "\n",
    "print('HHV_m = {:.3f} MJ/kg'.format(HHV_m))\n",
    "print('HHV = {:.3f} MJ/kmol'.format(HHV))\n",
    "print('HHV_v = {:.3f} MJ/m3'.format(HHV_v))"
   ]
  },
  {
   "cell_type": "markdown",
   "metadata": {},
   "source": [
    "$C_{12}H_{26}+18.5(O_2+3.76N_2)\\rightarrow 12CO_2+13H_2O+69.56N_2$"
   ]
  },
  {
   "cell_type": "code",
   "execution_count": 16,
   "metadata": {},
   "outputs": [
    {
     "name": "stdout",
     "output_type": "stream",
     "text": [
      "LHV_m = 44.470 MJ/kg\n",
      "LHV = 7559.865 MJ/kmol\n",
      "LHV_v = 318.982 MJ/m3\n",
      "HHV_m = 47.828 MJ/kg\n",
      "HHV = 8130.797 MJ/kmol\n",
      "HHV_v = 343.072 MJ/m3\n"
     ]
    },
    {
     "data": {
      "text/plain": [
       "3134.0552739031814"
      ]
     },
     "execution_count": 16,
     "metadata": {},
     "output_type": "execute_result"
    }
   ],
   "source": [
    "import cantera as ct\n",
    "gas_C12H26 = ct.Solution('nDodecane_Reitz.cti', 'nDodecane_IG')\n",
    "\n",
    "# Primero se establece el estado de la mezcla\n",
    "gas_C12H26.TPX = 298.15, 101325, \"C12H26:1, O2:18.5, N2:69.56\"\n",
    "h1_mass_C12H26 = gas_C12H26.enthalpy_mass\n",
    "h1_mole_C12H26 = gas_C12H26.enthalpy_mole\n",
    "\n",
    "Y_C12H26 = gas_C12H26['C12H26'].Y[0]\n",
    "\n",
    "\n",
    "# Se establece el estado de los productos sin cambiar P y T\n",
    "gas_C12H26.TPX = None, None, 'CO2:12, H2O:13, N2:69.56' \n",
    "h2_mass_C12H26 = gas_C12H26.enthalpy_mass\n",
    "h2_mole_C12H26 = gas_C12H26.enthalpy_mole\n",
    "\n",
    "M_C12H26 = 170\n",
    "LHV_m = -(h2_mass_C12H26-h1_mass_C12H26)/Y_C12H26/1e6\n",
    "LHV = LHV_m*M_C12H26\n",
    "LHV_v = LHV/23.7\n",
    "print('LHV_m = {:.3f} MJ/kg'.format(LHV_m))\n",
    "print('LHV = {:.3f} MJ/kmol'.format(LHV))\n",
    "print('LHV_v = {:.3f} MJ/m3'.format(LHV_v))\n",
    "\n",
    "#Para hallar el poder calorífico superior\n",
    "water = ct.Water()\n",
    "# Se establece el estado líquido del agua con calidad = 0\n",
    "water.TX = 298, 0\n",
    "h_liquid = water.h\n",
    "# Se establece el estado gaseoso del agua con calidad = 1\n",
    "water.TX = 298, 1\n",
    "h_gas = water.h\n",
    "Y_H2O = gas_C12H26['H2O'].Y[0]\n",
    "\n",
    "HHV_m = -(h2_mass_C12H26-h1_mass_C12H26 + (h_liquid-h_gas) * Y_H2O)/Y_C12H26/1e6\n",
    "HHV = HHV_m*M_C12H26\n",
    "HHV_v = HHV/23.7\n",
    "\n",
    "print('HHV_m = {:.3f} MJ/kg'.format(HHV_m))\n",
    "print('HHV = {:.3f} MJ/kmol'.format(HHV))\n",
    "print('HHV_v = {:.3f} MJ/m3'.format(HHV_v))\n"
   ]
  },
  {
   "cell_type": "markdown",
   "metadata": {},
   "source": [
    "$(0.9C_{12}H_{26}+0.1H_2)+16.7(O_2+3.76N_2)\\rightarrow 10.8CO_2+11.8H_2O+62.79N_2$"
   ]
  },
  {
   "cell_type": "code",
   "execution_count": 5,
   "metadata": {},
   "outputs": [
    {
     "name": "stdout",
     "output_type": "stream",
     "text": [
      "LHV_mezcla_masa = 0.524 MJ/kg\n"
     ]
    }
   ],
   "source": [
    "LHV_mezcla_molar = 0.9*79.917 + 0.1*83.975\n",
    "M = (0.9)*170 + (0.1)*2 \n",
    "LHV_mezcla_masa = LHV_mezcla_molar/M\n",
    "print(\"LHV_mezcla_masa = %.3f MJ/kg\" % round(LHV_mezcla_masa, 3))"
   ]
  },
  {
   "cell_type": "code",
   "execution_count": 7,
   "metadata": {},
   "outputs": [
    {
     "data": {
      "text/plain": [
       "44.56915103599996"
      ]
     },
     "execution_count": 7,
     "metadata": {},
     "output_type": "execute_result"
    }
   ],
   "source": [
    "gas = ct.Solution('nDodecane_Reitz.cti', 'nDodecane_IG')\n",
    "gas.TPX = 298.15, 101325, \"C12H26:0.9, H2:0.1\"\n",
    "Y1_C12H26 = gas['C12H26'].Y[0]\n",
    "Y1_H2 = gas['H2'].Y[0]\n",
    "LHV_masa = Y1_C12H26*44.47 + Y1_H2*119.972\n",
    "LHV_masa"
   ]
  }
 ],
 "metadata": {
  "kernelspec": {
   "display_name": "Python 3",
   "language": "python",
   "name": "python3"
  },
  "language_info": {
   "codemirror_mode": {
    "name": "ipython",
    "version": 3
   },
   "file_extension": ".py",
   "mimetype": "text/x-python",
   "name": "python",
   "nbconvert_exporter": "python",
   "pygments_lexer": "ipython3",
   "version": "3.7.7"
  }
 },
 "nbformat": 4,
 "nbformat_minor": 4
}
